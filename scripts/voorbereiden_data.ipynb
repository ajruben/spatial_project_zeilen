{
 "cells": [
  {
   "cell_type": "markdown",
   "metadata": {},
   "source": [
    "Inladen data, converteren naar gpkg (dan kun je met sqlite werken en lagen toevoegen)"
   ]
  },
  {
   "cell_type": "code",
   "execution_count": null,
   "metadata": {},
   "outputs": [
    {
     "name": "stderr",
     "output_type": "stream",
     "text": [
      "2024-12-12 10:09:42,750 - INFO - Processing shapefile: ..\\data\\vaarweg_markering_drijvend_detail\\vaarweg_markering_drijvend_detailPoint.shp\n",
      "c:\\Users\\Gebruiker\\AppData\\Local\\Programs\\Python\\Python312\\Lib\\site-packages\\osgeo\\gdal.py:312: FutureWarning: Neither gdal.UseExceptions() nor gdal.DontUseExceptions() has been explicitly called. In GDAL 4.0, exceptions will be enabled by default.\n",
      "  warnings.warn(\n",
      "2024-12-12 10:09:43,132 - INFO - Successfully converted: ..\\data\\vaarweg_markering_drijvend_detail\\vaarweg_markering_drijvend_detailPoint.shp to output\\converted_data.gpkg\n",
      "2024-12-12 10:09:43,132 - INFO - Processing shapefile: ..\\data\\vaarweg_markering_vast_detail\\vaarweg_markering_vast_detailPoint.shp\n",
      "2024-12-12 10:09:43,594 - INFO - Successfully converted: ..\\data\\vaarweg_markering_vast_detail\\vaarweg_markering_vast_detailPoint.shp to output\\converted_data.gpkg\n",
      "2024-12-12 10:09:43,595 - INFO - All shapefiles processed.\n",
      "2024-12-12 10:09:43,595 - INFO - Conversion completed successfully.\n"
     ]
    }
   ],
   "source": [
    "import os\n",
    "import logging\n",
    "from osgeo import ogr, gdal\n",
    "\n",
    "class Logger:\n",
    "    def __init__(self, log_dir=\"log\"):\n",
    "        if not os.path.exists(log_dir):\n",
    "            os.makedirs(log_dir)\n",
    "        log_file = os.path.join(log_dir, \"conversion.log\")\n",
    "        logging.basicConfig(\n",
    "            level=logging.INFO,\n",
    "            format=\"%(asctime)s - %(levelname)s - %(message)s\",\n",
    "            handlers=[\n",
    "                logging.FileHandler(log_file),\n",
    "                logging.StreamHandler()\n",
    "            ]\n",
    "        )\n",
    "        self.logger = logging.getLogger()\n",
    "\n",
    "    def info(self, message):\n",
    "        self.logger.info(message)\n",
    "\n",
    "    def error(self, message):\n",
    "        self.logger.error(message)\n",
    "\n",
    "class ShapefileConverter:\n",
    "    def __init__(self, logger):\n",
    "        self.logger = logger\n",
    "\n",
    "    def convert_shapefiles_to_geopackage(self, input_shapefiles, output_geopackage):\n",
    "        try:\n",
    "            if not input_shapefiles:\n",
    "                raise ValueError(\"No input shapefiles provided.\")\n",
    "\n",
    "            for input_shapefile in input_shapefiles:\n",
    "                if not os.path.exists(input_shapefile):\n",
    "                    self.logger.error(f\"Input shapefile not found: {input_shapefile}\")\n",
    "                    raise FileNotFoundError(f\"Shapefile not found: {input_shapefile}\")\n",
    "\n",
    "                self.logger.info(f\"Processing shapefile: {input_shapefile}\")\n",
    "\n",
    "                try:\n",
    "                    srcDS = gdal.OpenEx(input_shapefile, allowed_drivers=['ESRI Shapefile'])\n",
    "                    if srcDS is None:\n",
    "                        raise RuntimeError(f\"Failed to open shapefile: {input_shapefile}\")\n",
    "\n",
    "                    options = gdal.VectorTranslateOptions(\n",
    "                        format='GPKG', accessMode='append', srcSRS='EPSG:28992', dstSRS='EPSG:28992',\n",
    "                        addFields=True\n",
    "                    )\n",
    "\n",
    "                    gdal.VectorTranslate(srcDS=srcDS, destNameOrDestDS=output_geopackage, options=options)\n",
    "                    self.logger.info(f\"Successfully converted: {input_shapefile} to {output_geopackage}\")\n",
    "\n",
    "                    srcDS.Close()\n",
    "\n",
    "                except Exception as e:\n",
    "                    self.logger.error(f\"Error processing shapefile {input_shapefile}: {e}\")\n",
    "                    raise\n",
    "\n",
    "        except Exception as e:\n",
    "            self.logger.error(f\"Unexpected error during conversion: {e}\")\n",
    "            raise\n",
    "\n",
    "        self.logger.info(\"All shapefiles processed.\")\n",
    "        return 'success'\n",
    "\n",
    "if __name__ == \"__main__\":\n",
    "    #file paths\n",
    "    input_shapefiles = [\n",
    "        r\"..\\data\\vaarweg_markering_drijvend_detail\\vaarweg_markering_drijvend_detailPoint.shp\",\n",
    "        r\"..\\data\\vaarweg_markering_vast_detail\\vaarweg_markering_vast_detailPoint.shp\"\n",
    "    ]\n",
    "    output_geopackage = r\"..\\data\\converted_data.gpkg\"\n",
    "\n",
    "    #init logger and converter\n",
    "    logger = Logger()\n",
    "    converter = ShapefileConverter(logger)\n",
    "\n",
    "    #convert\n",
    "    converter.convert_shapefiles_to_geopackage(input_shapefiles, output_geopackage)\n",
    "\n"
   ]
  },
  {
   "cell_type": "code",
   "execution_count": null,
   "metadata": {},
   "outputs": [],
   "source": []
  }
 ],
 "metadata": {
  "kernelspec": {
   "display_name": "Python 3",
   "language": "python",
   "name": "python3"
  },
  "language_info": {
   "codemirror_mode": {
    "name": "ipython",
    "version": 3
   },
   "file_extension": ".py",
   "mimetype": "text/x-python",
   "name": "python",
   "nbconvert_exporter": "python",
   "pygments_lexer": "ipython3",
   "version": "3.12.5"
  }
 },
 "nbformat": 4,
 "nbformat_minor": 2
}
